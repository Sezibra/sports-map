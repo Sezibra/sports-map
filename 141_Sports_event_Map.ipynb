{
 "cells": [
  {
   "cell_type": "code",
   "execution_count": 1,
   "id": "8deb9a6d-9a83-4643-8e4e-bb96cad2d56a",
   "metadata": {},
   "outputs": [
    {
     "name": "stdout",
     "output_type": "stream",
     "text": [
      "Requirement already satisfied: pandas in /opt/anaconda3/lib/python3.11/site-packages (2.2.3)\n",
      "Requirement already satisfied: geopy in /opt/anaconda3/lib/python3.11/site-packages (2.4.1)\n",
      "Requirement already satisfied: folium in /opt/anaconda3/lib/python3.11/site-packages (0.20.0)\n",
      "Requirement already satisfied: numpy>=1.23.2 in /opt/anaconda3/lib/python3.11/site-packages (from pandas) (1.26.4)\n",
      "Requirement already satisfied: python-dateutil>=2.8.2 in /opt/anaconda3/lib/python3.11/site-packages (from pandas) (2.8.2)\n",
      "Requirement already satisfied: pytz>=2020.1 in /opt/anaconda3/lib/python3.11/site-packages (from pandas) (2023.3.post1)\n",
      "Requirement already satisfied: tzdata>=2022.7 in /opt/anaconda3/lib/python3.11/site-packages (from pandas) (2023.3)\n",
      "Requirement already satisfied: geographiclib<3,>=1.52 in /opt/anaconda3/lib/python3.11/site-packages (from geopy) (2.0)\n",
      "Requirement already satisfied: branca>=0.6.0 in /opt/anaconda3/lib/python3.11/site-packages (from folium) (0.8.1)\n",
      "Requirement already satisfied: jinja2>=2.9 in /opt/anaconda3/lib/python3.11/site-packages (from folium) (3.1.3)\n",
      "Requirement already satisfied: requests in /opt/anaconda3/lib/python3.11/site-packages (from folium) (2.32.3)\n",
      "Requirement already satisfied: xyzservices in /opt/anaconda3/lib/python3.11/site-packages (from folium) (2022.9.0)\n",
      "Requirement already satisfied: MarkupSafe>=2.0 in /opt/anaconda3/lib/python3.11/site-packages (from jinja2>=2.9->folium) (2.1.3)\n",
      "Requirement already satisfied: six>=1.5 in /opt/anaconda3/lib/python3.11/site-packages (from python-dateutil>=2.8.2->pandas) (1.16.0)\n",
      "Requirement already satisfied: charset-normalizer<4,>=2 in /opt/anaconda3/lib/python3.11/site-packages (from requests->folium) (2.0.4)\n",
      "Requirement already satisfied: idna<4,>=2.5 in /opt/anaconda3/lib/python3.11/site-packages (from requests->folium) (3.4)\n",
      "Requirement already satisfied: urllib3<3,>=1.21.1 in /opt/anaconda3/lib/python3.11/site-packages (from requests->folium) (2.4.0)\n",
      "Requirement already satisfied: certifi>=2017.4.17 in /opt/anaconda3/lib/python3.11/site-packages (from requests->folium) (2025.4.26)\n",
      "Note: you may need to restart the kernel to use updated packages.\n"
     ]
    }
   ],
   "source": [
    "pip install pandas geopy folium"
   ]
  },
  {
   "cell_type": "code",
   "execution_count": 10,
   "id": "76379090-ea3e-47b6-8954-e94c52c85031",
   "metadata": {},
   "outputs": [
    {
     "name": "stdout",
     "output_type": "stream",
     "text": [
      "✅ Map saved with swimmer and runner icons.\n"
     ]
    }
   ],
   "source": [
    "import pandas as pd\n",
    "from geopy.geocoders import Nominatim\n",
    "from geopy.extra.rate_limiter import RateLimiter\n",
    "import folium\n",
    "from folium.plugins import MarkerCluster\n",
    "\n",
    "# Step 1: Event data\n",
    "data = [\n",
    "    {\"Date\": \"2021-11-07\", \"Location\": \"Istanbul, Turkey\", \"Distance\": 15, \"Event Type\": \"Running\"},\n",
    "    {\"Date\": \"2022-03-27\", \"Location\": \"Istanbul, Turkey\", \"Distance\": 10, \"Event Type\": \"Running\"},\n",
    "    {\"Date\": \"2025-10-02\", \"Location\": \"Istanbul, Turkey\", \"Distance\": 5, \"Event Type\": \"Swimming\"},\n",
    "    {\"Date\": \"2022-11-06\", \"Location\": \"Istanbul, Turkey\", \"Distance\": 15, \"Event Type\": \"Running\"},\n",
    "    {\"Date\": \"2023-05-14\", \"Location\": \"Berlin, Germany\", \"Distance\": 10, \"Event Type\": \"Running\"},\n",
    "    {\"Date\": \"2023-08-27\", \"Location\": \"Berlin, Germany\", \"Distance\": 3.5, \"Event Type\": \"Swimming\"},\n",
    "    {\"Date\": \"2024-04-25\", \"Location\": \"Berlin, Germany\", \"Distance\": 5, \"Event Type\": \"Running\"},\n",
    "    {\"Date\": \"2024-04-28\", \"Location\": \"Potsdam, Germany\", \"Distance\": 10, \"Event Type\": \"Running\"},\n",
    "    {\"Date\": \"2024-05-05\", \"Location\": \"Berlin, Germany\", \"Distance\": 10, \"Event Type\": \"Running\"},\n",
    "    {\"Date\": \"2024-07-14\", \"Location\": \"Berlin, Germany\", \"Distance\": 3.5, \"Event Type\": \"Swimming\"},\n",
    "    {\"Date\": \"2024-07-28\", \"Location\": \"Lindau, Germany\", \"Distance\": 2.8, \"Event Type\": \"Swimming\"},\n",
    "    {\"Date\": \"2024-09-08\", \"Location\": \"Berlin, Germany\", \"Distance\": 10, \"Event Type\": \"Running\"},\n",
    "    {\"Date\": \"2025-03-09\", \"Location\": \"Lisbon, Portugal\", \"Distance\": 10, \"Event Type\": \"Running\"},\n",
    "    {\"Date\": \"2025-05-11\", \"Location\": \"Berlin, Germany\", \"Distance\": 10, \"Event Type\": \"Running\"},\n",
    "    {\"Date\": \"2025-06-14\", \"Location\": \"Nienburg, Germany\", \"Distance\": 10, \"Event Type\": \"Running\"},\n",
    "    {\"Date\": \"2025-07-13\", \"Location\": \"Berlin, Germany\", \"Distance\": 3.5, \"Event Type\": \"Swimming\"}\n",
    "    {\"Date\": \"2025-09-29\", \"Location\": \"Copenhagen, Denmark\", \"Distance\": 2, \"Event Type\": \"Swimming\"}\n",
    "]\n",
    "\n",
    "df = pd.DataFrame(data)\n",
    "\n",
    "# Step 2: Geocode\n",
    "geolocator = Nominatim(user_agent=\"sports_event_mapper\")\n",
    "geocode = RateLimiter(geolocator.geocode, min_delay_seconds=1)\n",
    "df[\"Coordinates\"] = df[\"Location\"].apply(geocode)\n",
    "df[\"Latitude\"] = df[\"Coordinates\"].apply(lambda loc: loc.latitude if loc else None)\n",
    "df[\"Longitude\"] = df[\"Coordinates\"].apply(lambda loc: loc.longitude if loc else None)\n",
    "\n",
    "# Step 3: Create map\n",
    "m = folium.Map(location=[50, 10], zoom_start=4)\n",
    "\n",
    "# Inject Font Awesome 5 via HTML hack (for fa-swimmer and fa-running)\n",
    "fontawesome_link = '<link rel=\"stylesheet\" href=\"https://use.fontawesome.com/releases/v5.15.4/css/all.css\">'\n",
    "m.get_root().html.add_child(folium.Element(fontawesome_link))\n",
    "\n",
    "marker_cluster = MarkerCluster().add_to(m)\n",
    "\n",
    "# Step 4: Add icons with custom class\n",
    "for _, row in df.iterrows():\n",
    "    if pd.notnull(row[\"Latitude\"]) and pd.notnull(row[\"Longitude\"]):\n",
    "        popup = f\"{row['Date']}<br>{row['Location']}<br>{row['Distance']} km<br>{row['Event Type']}\"\n",
    "\n",
    "        if row[\"Event Type\"].lower() == \"swimming\":\n",
    "            icon = \"fa-swimmer\"\n",
    "            color = \"blue\"\n",
    "        else:\n",
    "            icon = \"fa-running\"\n",
    "            color = \"black\"\n",
    "\n",
    "        folium.Marker(\n",
    "            location=[row[\"Latitude\"], row[\"Longitude\"]],\n",
    "            popup=popup,\n",
    "            icon=folium.Icon(color=color, icon=icon, prefix='fa')\n",
    "        ).add_to(marker_cluster)\n",
    "\n",
    "# Step 5: Save map\n",
    "m.save(\"sports_events_map.html\")\n",
    "print(\"✅ Map saved with swimmer and runner icons.\")"
   ]
  }
 ],
 "metadata": {
  "kernelspec": {
   "display_name": "Python 3 (ipykernel)",
   "language": "python",
   "name": "python3"
  },
  "language_info": {
   "codemirror_mode": {
    "name": "ipython",
    "version": 3
   },
   "file_extension": ".py",
   "mimetype": "text/x-python",
   "name": "python",
   "nbconvert_exporter": "python",
   "pygments_lexer": "ipython3",
   "version": "3.11.7"
  }
 },
 "nbformat": 4,
 "nbformat_minor": 5
}
